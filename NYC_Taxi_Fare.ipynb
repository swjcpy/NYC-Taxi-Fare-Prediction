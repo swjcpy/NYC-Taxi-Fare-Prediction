{
 "cells": [
  {
   "cell_type": "code",
   "execution_count": 1,
   "metadata": {},
   "outputs": [
    {
     "name": "stdout",
     "output_type": "stream",
     "text": [
      "                             key  fare_amount  pickup_longitude  \\\n",
      "0    2011-03-19 15:00:27.0000001          8.9        -73.981030   \n",
      "1    2010-04-16 20:35:21.0000004          8.5        -73.944602   \n",
      "2    2013-01-24 10:15:00.0000002          4.0        -73.976085   \n",
      "3  2010-06-16 21:29:00.000000168          6.5        -73.984437   \n",
      "4   2014-05-03 19:57:00.00000036         15.0        -73.994265   \n",
      "\n",
      "   pickup_latitude  dropoff_longitude  dropoff_latitude  passenger_count  \\\n",
      "0        40.729782         -73.993011         40.752803                1   \n",
      "1        40.815676         -73.917888         40.806313                1   \n",
      "2        40.755877         -73.979065         40.750322                6   \n",
      "3        40.750902         -73.977672         40.760995                1   \n",
      "4        40.750880         -73.988083         40.737902                1   \n",
      "\n",
      "   month  hour  day  weekday  \n",
      "0      3    15   19        5  \n",
      "1      4    20   16        4  \n",
      "2      1    10   24        3  \n",
      "3      6    21   16        2  \n",
      "4      5    19    3        5  \n"
     ]
    }
   ],
   "source": [
    "import numpy as np\n",
    "import pandas as pd\n",
    "\n",
    "n = 55000000 # Number of total rows\n",
    "s = 100000 # Desired sample size\n",
    "skip = sorted(np.random.choice(range(n), n-s, replace=False))\n",
    "skip[0] = 1\n",
    "train = pd.read_csv('train.csv', skiprows=skip, header=0)\n",
    "\n",
    "test = pd.read_csv('test.csv')\n",
    "\n",
    "train['pickup_datetime'] = pd.to_datetime(train['pickup_datetime'])\n",
    "\n",
    "train['month'] = train['pickup_datetime'].dt.month\n",
    "train['hour'] = train['pickup_datetime'].dt.hour\n",
    "train['day'] = train['pickup_datetime'].dt.day\n",
    "train['weekday'] = train['pickup_datetime'].dt.weekday\n",
    "train = train.drop(['pickup_datetime'],axis=1)\n",
    "\n",
    "test['pickup_datetime'] = pd.to_datetime(test['pickup_datetime'])\n",
    "\n",
    "test['month'] = test['pickup_datetime'].dt.month\n",
    "test['hour'] = test['pickup_datetime'].dt.hour\n",
    "test['day'] = test['pickup_datetime'].dt.day\n",
    "test['weekday'] = test['pickup_datetime'].dt.weekday\n",
    "test = test.drop(['pickup_datetime'],axis=1)\n",
    "\n",
    "train = train.dropna()\n",
    "\n",
    "print(train.head())"
   ]
  },
  {
   "cell_type": "code",
   "execution_count": 2,
   "metadata": {},
   "outputs": [],
   "source": [
    "def create_dummies(df,column_name):\n",
    "    dummies = pd.get_dummies(df[column_name],prefix=column_name)\n",
    "    df = pd.concat([df,dummies],axis=1)\n",
    "    return df"
   ]
  },
  {
   "cell_type": "code",
   "execution_count": 3,
   "metadata": {},
   "outputs": [],
   "source": [
    "cols = ['month','hour','day','weekday']\n",
    "for col in cols:\n",
    "    train = create_dummies(train, col)\n",
    "    test = create_dummies(test, col)\n"
   ]
  },
  {
   "cell_type": "code",
   "execution_count": 4,
   "metadata": {},
   "outputs": [
    {
     "data": {
      "text/html": [
       "<div>\n",
       "<style scoped>\n",
       "    .dataframe tbody tr th:only-of-type {\n",
       "        vertical-align: middle;\n",
       "    }\n",
       "\n",
       "    .dataframe tbody tr th {\n",
       "        vertical-align: top;\n",
       "    }\n",
       "\n",
       "    .dataframe thead th {\n",
       "        text-align: right;\n",
       "    }\n",
       "</style>\n",
       "<table border=\"1\" class=\"dataframe\">\n",
       "  <thead>\n",
       "    <tr style=\"text-align: right;\">\n",
       "      <th></th>\n",
       "      <th>key</th>\n",
       "      <th>fare_amount</th>\n",
       "      <th>pickup_longitude</th>\n",
       "      <th>pickup_latitude</th>\n",
       "      <th>dropoff_longitude</th>\n",
       "      <th>dropoff_latitude</th>\n",
       "      <th>passenger_count</th>\n",
       "      <th>month_1</th>\n",
       "      <th>month_2</th>\n",
       "      <th>month_3</th>\n",
       "      <th>...</th>\n",
       "      <th>day_29</th>\n",
       "      <th>day_30</th>\n",
       "      <th>day_31</th>\n",
       "      <th>weekday_0</th>\n",
       "      <th>weekday_1</th>\n",
       "      <th>weekday_2</th>\n",
       "      <th>weekday_3</th>\n",
       "      <th>weekday_4</th>\n",
       "      <th>weekday_5</th>\n",
       "      <th>weekday_6</th>\n",
       "    </tr>\n",
       "  </thead>\n",
       "  <tbody>\n",
       "    <tr>\n",
       "      <th>0</th>\n",
       "      <td>2011-03-19 15:00:27.0000001</td>\n",
       "      <td>8.9</td>\n",
       "      <td>-73.981030</td>\n",
       "      <td>40.729782</td>\n",
       "      <td>-73.993011</td>\n",
       "      <td>40.752803</td>\n",
       "      <td>1</td>\n",
       "      <td>0</td>\n",
       "      <td>0</td>\n",
       "      <td>1</td>\n",
       "      <td>...</td>\n",
       "      <td>0</td>\n",
       "      <td>0</td>\n",
       "      <td>0</td>\n",
       "      <td>0</td>\n",
       "      <td>0</td>\n",
       "      <td>0</td>\n",
       "      <td>0</td>\n",
       "      <td>0</td>\n",
       "      <td>1</td>\n",
       "      <td>0</td>\n",
       "    </tr>\n",
       "    <tr>\n",
       "      <th>1</th>\n",
       "      <td>2010-04-16 20:35:21.0000004</td>\n",
       "      <td>8.5</td>\n",
       "      <td>-73.944602</td>\n",
       "      <td>40.815676</td>\n",
       "      <td>-73.917888</td>\n",
       "      <td>40.806313</td>\n",
       "      <td>1</td>\n",
       "      <td>0</td>\n",
       "      <td>0</td>\n",
       "      <td>0</td>\n",
       "      <td>...</td>\n",
       "      <td>0</td>\n",
       "      <td>0</td>\n",
       "      <td>0</td>\n",
       "      <td>0</td>\n",
       "      <td>0</td>\n",
       "      <td>0</td>\n",
       "      <td>0</td>\n",
       "      <td>1</td>\n",
       "      <td>0</td>\n",
       "      <td>0</td>\n",
       "    </tr>\n",
       "    <tr>\n",
       "      <th>2</th>\n",
       "      <td>2013-01-24 10:15:00.0000002</td>\n",
       "      <td>4.0</td>\n",
       "      <td>-73.976085</td>\n",
       "      <td>40.755877</td>\n",
       "      <td>-73.979065</td>\n",
       "      <td>40.750322</td>\n",
       "      <td>6</td>\n",
       "      <td>1</td>\n",
       "      <td>0</td>\n",
       "      <td>0</td>\n",
       "      <td>...</td>\n",
       "      <td>0</td>\n",
       "      <td>0</td>\n",
       "      <td>0</td>\n",
       "      <td>0</td>\n",
       "      <td>0</td>\n",
       "      <td>0</td>\n",
       "      <td>1</td>\n",
       "      <td>0</td>\n",
       "      <td>0</td>\n",
       "      <td>0</td>\n",
       "    </tr>\n",
       "    <tr>\n",
       "      <th>3</th>\n",
       "      <td>2010-06-16 21:29:00.000000168</td>\n",
       "      <td>6.5</td>\n",
       "      <td>-73.984437</td>\n",
       "      <td>40.750902</td>\n",
       "      <td>-73.977672</td>\n",
       "      <td>40.760995</td>\n",
       "      <td>1</td>\n",
       "      <td>0</td>\n",
       "      <td>0</td>\n",
       "      <td>0</td>\n",
       "      <td>...</td>\n",
       "      <td>0</td>\n",
       "      <td>0</td>\n",
       "      <td>0</td>\n",
       "      <td>0</td>\n",
       "      <td>0</td>\n",
       "      <td>1</td>\n",
       "      <td>0</td>\n",
       "      <td>0</td>\n",
       "      <td>0</td>\n",
       "      <td>0</td>\n",
       "    </tr>\n",
       "    <tr>\n",
       "      <th>4</th>\n",
       "      <td>2014-05-03 19:57:00.00000036</td>\n",
       "      <td>15.0</td>\n",
       "      <td>-73.994265</td>\n",
       "      <td>40.750880</td>\n",
       "      <td>-73.988083</td>\n",
       "      <td>40.737902</td>\n",
       "      <td>1</td>\n",
       "      <td>0</td>\n",
       "      <td>0</td>\n",
       "      <td>0</td>\n",
       "      <td>...</td>\n",
       "      <td>0</td>\n",
       "      <td>0</td>\n",
       "      <td>0</td>\n",
       "      <td>0</td>\n",
       "      <td>0</td>\n",
       "      <td>0</td>\n",
       "      <td>0</td>\n",
       "      <td>0</td>\n",
       "      <td>1</td>\n",
       "      <td>0</td>\n",
       "    </tr>\n",
       "  </tbody>\n",
       "</table>\n",
       "<p>5 rows × 81 columns</p>\n",
       "</div>"
      ],
      "text/plain": [
       "                             key  fare_amount  pickup_longitude  \\\n",
       "0    2011-03-19 15:00:27.0000001          8.9        -73.981030   \n",
       "1    2010-04-16 20:35:21.0000004          8.5        -73.944602   \n",
       "2    2013-01-24 10:15:00.0000002          4.0        -73.976085   \n",
       "3  2010-06-16 21:29:00.000000168          6.5        -73.984437   \n",
       "4   2014-05-03 19:57:00.00000036         15.0        -73.994265   \n",
       "\n",
       "   pickup_latitude  dropoff_longitude  dropoff_latitude  passenger_count  \\\n",
       "0        40.729782         -73.993011         40.752803                1   \n",
       "1        40.815676         -73.917888         40.806313                1   \n",
       "2        40.755877         -73.979065         40.750322                6   \n",
       "3        40.750902         -73.977672         40.760995                1   \n",
       "4        40.750880         -73.988083         40.737902                1   \n",
       "\n",
       "   month_1  month_2  month_3    ...      day_29  day_30  day_31  weekday_0  \\\n",
       "0        0        0        1    ...           0       0       0          0   \n",
       "1        0        0        0    ...           0       0       0          0   \n",
       "2        1        0        0    ...           0       0       0          0   \n",
       "3        0        0        0    ...           0       0       0          0   \n",
       "4        0        0        0    ...           0       0       0          0   \n",
       "\n",
       "   weekday_1  weekday_2  weekday_3  weekday_4  weekday_5  weekday_6  \n",
       "0          0          0          0          0          1          0  \n",
       "1          0          0          0          1          0          0  \n",
       "2          0          0          1          0          0          0  \n",
       "3          0          1          0          0          0          0  \n",
       "4          0          0          0          0          1          0  \n",
       "\n",
       "[5 rows x 81 columns]"
      ]
     },
     "execution_count": 4,
     "metadata": {},
     "output_type": "execute_result"
    }
   ],
   "source": [
    "train = train.drop(['month','hour','day','weekday'],axis=1)\n",
    "train.head()"
   ]
  },
  {
   "cell_type": "code",
   "execution_count": 5,
   "metadata": {},
   "outputs": [
    {
     "data": {
      "text/plain": [
       "['pickup_longitude',\n",
       " 'pickup_latitude',\n",
       " 'dropoff_longitude',\n",
       " 'dropoff_latitude',\n",
       " 'passenger_count',\n",
       " 'month_1',\n",
       " 'month_2',\n",
       " 'month_3',\n",
       " 'month_4',\n",
       " 'month_5',\n",
       " 'month_6',\n",
       " 'month_7',\n",
       " 'month_8',\n",
       " 'month_9',\n",
       " 'month_10',\n",
       " 'month_11',\n",
       " 'month_12',\n",
       " 'hour_0',\n",
       " 'hour_1',\n",
       " 'hour_2',\n",
       " 'hour_3',\n",
       " 'hour_4',\n",
       " 'hour_5',\n",
       " 'hour_6',\n",
       " 'hour_7',\n",
       " 'hour_8',\n",
       " 'hour_9',\n",
       " 'hour_10',\n",
       " 'hour_11',\n",
       " 'hour_12',\n",
       " 'hour_13',\n",
       " 'hour_14',\n",
       " 'hour_15',\n",
       " 'hour_16',\n",
       " 'hour_17',\n",
       " 'hour_18',\n",
       " 'hour_19',\n",
       " 'hour_20',\n",
       " 'hour_21',\n",
       " 'hour_22',\n",
       " 'hour_23',\n",
       " 'day_1',\n",
       " 'day_2',\n",
       " 'day_3',\n",
       " 'day_4',\n",
       " 'day_5',\n",
       " 'day_6',\n",
       " 'day_7',\n",
       " 'day_8',\n",
       " 'day_9',\n",
       " 'day_10',\n",
       " 'day_11',\n",
       " 'day_12',\n",
       " 'day_13',\n",
       " 'day_14',\n",
       " 'day_15',\n",
       " 'day_16',\n",
       " 'day_17',\n",
       " 'day_18',\n",
       " 'day_19',\n",
       " 'day_20',\n",
       " 'day_21',\n",
       " 'day_22',\n",
       " 'day_23',\n",
       " 'day_24',\n",
       " 'day_25',\n",
       " 'day_26',\n",
       " 'day_27',\n",
       " 'day_28',\n",
       " 'day_29',\n",
       " 'day_30',\n",
       " 'day_31',\n",
       " 'weekday_0',\n",
       " 'weekday_1',\n",
       " 'weekday_2',\n",
       " 'weekday_3',\n",
       " 'weekday_4',\n",
       " 'weekday_5',\n",
       " 'weekday_6']"
      ]
     },
     "execution_count": 5,
     "metadata": {},
     "output_type": "execute_result"
    }
   ],
   "source": [
    "cols = list(train.columns)\n",
    "features = cols[2:]\n",
    "target = ['fare_amount']\n",
    "features"
   ]
  },
  {
   "cell_type": "code",
   "execution_count": 6,
   "metadata": {},
   "outputs": [
    {
     "data": {
      "text/plain": [
       "key                   object\n",
       "fare_amount          float64\n",
       "pickup_longitude     float64\n",
       "pickup_latitude      float64\n",
       "dropoff_longitude    float64\n",
       "dropoff_latitude     float64\n",
       "passenger_count        int64\n",
       "month_1                uint8\n",
       "month_2                uint8\n",
       "month_3                uint8\n",
       "month_4                uint8\n",
       "month_5                uint8\n",
       "month_6                uint8\n",
       "month_7                uint8\n",
       "month_8                uint8\n",
       "month_9                uint8\n",
       "month_10               uint8\n",
       "month_11               uint8\n",
       "month_12               uint8\n",
       "hour_0                 uint8\n",
       "hour_1                 uint8\n",
       "hour_2                 uint8\n",
       "hour_3                 uint8\n",
       "hour_4                 uint8\n",
       "hour_5                 uint8\n",
       "hour_6                 uint8\n",
       "hour_7                 uint8\n",
       "hour_8                 uint8\n",
       "hour_9                 uint8\n",
       "hour_10                uint8\n",
       "                      ...   \n",
       "day_9                  uint8\n",
       "day_10                 uint8\n",
       "day_11                 uint8\n",
       "day_12                 uint8\n",
       "day_13                 uint8\n",
       "day_14                 uint8\n",
       "day_15                 uint8\n",
       "day_16                 uint8\n",
       "day_17                 uint8\n",
       "day_18                 uint8\n",
       "day_19                 uint8\n",
       "day_20                 uint8\n",
       "day_21                 uint8\n",
       "day_22                 uint8\n",
       "day_23                 uint8\n",
       "day_24                 uint8\n",
       "day_25                 uint8\n",
       "day_26                 uint8\n",
       "day_27                 uint8\n",
       "day_28                 uint8\n",
       "day_29                 uint8\n",
       "day_30                 uint8\n",
       "day_31                 uint8\n",
       "weekday_0              uint8\n",
       "weekday_1              uint8\n",
       "weekday_2              uint8\n",
       "weekday_3              uint8\n",
       "weekday_4              uint8\n",
       "weekday_5              uint8\n",
       "weekday_6              uint8\n",
       "Length: 81, dtype: object"
      ]
     },
     "execution_count": 6,
     "metadata": {},
     "output_type": "execute_result"
    }
   ],
   "source": [
    "#Clean up the trian dataset to eliminate out of range values\n",
    "train = train[train['fare_amount'] > 0]\n",
    "train = train[train['pickup_longitude'] < -72]\n",
    "train = train[(train['pickup_latitude'] > 40) & (train['pickup_latitude'] < 44)]\n",
    "train = train[train['dropoff_longitude'] < -72]\n",
    "train = train[(train['dropoff_latitude'] > 40) & (train['dropoff_latitude'] < 44)]\n",
    "train = train[(train['passenger_count'] > 0) & (train['passenger_count'] < 10)]\n",
    "train.dtypes"
   ]
  },
  {
   "cell_type": "code",
   "execution_count": 7,
   "metadata": {},
   "outputs": [
    {
     "data": {
      "text/html": [
       "<div>\n",
       "<style scoped>\n",
       "    .dataframe tbody tr th:only-of-type {\n",
       "        vertical-align: middle;\n",
       "    }\n",
       "\n",
       "    .dataframe tbody tr th {\n",
       "        vertical-align: top;\n",
       "    }\n",
       "\n",
       "    .dataframe thead th {\n",
       "        text-align: right;\n",
       "    }\n",
       "</style>\n",
       "<table border=\"1\" class=\"dataframe\">\n",
       "  <thead>\n",
       "    <tr style=\"text-align: right;\">\n",
       "      <th></th>\n",
       "      <th>fare_amount</th>\n",
       "      <th>pickup_longitude</th>\n",
       "      <th>pickup_latitude</th>\n",
       "      <th>dropoff_longitude</th>\n",
       "      <th>dropoff_latitude</th>\n",
       "      <th>passenger_count</th>\n",
       "      <th>month_1</th>\n",
       "      <th>month_2</th>\n",
       "      <th>month_3</th>\n",
       "      <th>month_4</th>\n",
       "      <th>...</th>\n",
       "      <th>day_29</th>\n",
       "      <th>day_30</th>\n",
       "      <th>day_31</th>\n",
       "      <th>weekday_0</th>\n",
       "      <th>weekday_1</th>\n",
       "      <th>weekday_2</th>\n",
       "      <th>weekday_3</th>\n",
       "      <th>weekday_4</th>\n",
       "      <th>weekday_5</th>\n",
       "      <th>weekday_6</th>\n",
       "    </tr>\n",
       "  </thead>\n",
       "  <tbody>\n",
       "    <tr>\n",
       "      <th>count</th>\n",
       "      <td>511029.000000</td>\n",
       "      <td>511029.000000</td>\n",
       "      <td>511029.000000</td>\n",
       "      <td>511029.000000</td>\n",
       "      <td>511029.000000</td>\n",
       "      <td>511029.000000</td>\n",
       "      <td>511029.000000</td>\n",
       "      <td>511029.000000</td>\n",
       "      <td>511029.000000</td>\n",
       "      <td>511029.000000</td>\n",
       "      <td>...</td>\n",
       "      <td>511029.000000</td>\n",
       "      <td>511029.000000</td>\n",
       "      <td>511029.000000</td>\n",
       "      <td>511029.000000</td>\n",
       "      <td>511029.000000</td>\n",
       "      <td>511029.000000</td>\n",
       "      <td>511029.000000</td>\n",
       "      <td>511029.000000</td>\n",
       "      <td>511029.000000</td>\n",
       "      <td>511029.000000</td>\n",
       "    </tr>\n",
       "    <tr>\n",
       "      <th>mean</th>\n",
       "      <td>11.335625</td>\n",
       "      <td>-73.982200</td>\n",
       "      <td>40.751051</td>\n",
       "      <td>-73.986551</td>\n",
       "      <td>40.751380</td>\n",
       "      <td>1.690677</td>\n",
       "      <td>0.088946</td>\n",
       "      <td>0.084115</td>\n",
       "      <td>0.094153</td>\n",
       "      <td>0.092284</td>\n",
       "      <td>...</td>\n",
       "      <td>0.029838</td>\n",
       "      <td>0.029362</td>\n",
       "      <td>0.018739</td>\n",
       "      <td>0.128120</td>\n",
       "      <td>0.139769</td>\n",
       "      <td>0.145236</td>\n",
       "      <td>0.149230</td>\n",
       "      <td>0.152878</td>\n",
       "      <td>0.152700</td>\n",
       "      <td>0.132067</td>\n",
       "    </tr>\n",
       "    <tr>\n",
       "      <th>std</th>\n",
       "      <td>9.656648</td>\n",
       "      <td>2.086415</td>\n",
       "      <td>0.030315</td>\n",
       "      <td>3.760865</td>\n",
       "      <td>0.033439</td>\n",
       "      <td>1.305468</td>\n",
       "      <td>0.284666</td>\n",
       "      <td>0.277560</td>\n",
       "      <td>0.292042</td>\n",
       "      <td>0.289427</td>\n",
       "      <td>...</td>\n",
       "      <td>0.170140</td>\n",
       "      <td>0.168820</td>\n",
       "      <td>0.135601</td>\n",
       "      <td>0.334224</td>\n",
       "      <td>0.346748</td>\n",
       "      <td>0.352339</td>\n",
       "      <td>0.356316</td>\n",
       "      <td>0.359870</td>\n",
       "      <td>0.359698</td>\n",
       "      <td>0.338564</td>\n",
       "    </tr>\n",
       "    <tr>\n",
       "      <th>min</th>\n",
       "      <td>0.010000</td>\n",
       "      <td>-740.550000</td>\n",
       "      <td>40.081896</td>\n",
       "      <td>-2216.325133</td>\n",
       "      <td>40.027649</td>\n",
       "      <td>1.000000</td>\n",
       "      <td>0.000000</td>\n",
       "      <td>0.000000</td>\n",
       "      <td>0.000000</td>\n",
       "      <td>0.000000</td>\n",
       "      <td>...</td>\n",
       "      <td>0.000000</td>\n",
       "      <td>0.000000</td>\n",
       "      <td>0.000000</td>\n",
       "      <td>0.000000</td>\n",
       "      <td>0.000000</td>\n",
       "      <td>0.000000</td>\n",
       "      <td>0.000000</td>\n",
       "      <td>0.000000</td>\n",
       "      <td>0.000000</td>\n",
       "      <td>0.000000</td>\n",
       "    </tr>\n",
       "    <tr>\n",
       "      <th>25%</th>\n",
       "      <td>6.000000</td>\n",
       "      <td>-73.992320</td>\n",
       "      <td>40.736592</td>\n",
       "      <td>-73.991582</td>\n",
       "      <td>40.735620</td>\n",
       "      <td>1.000000</td>\n",
       "      <td>0.000000</td>\n",
       "      <td>0.000000</td>\n",
       "      <td>0.000000</td>\n",
       "      <td>0.000000</td>\n",
       "      <td>...</td>\n",
       "      <td>0.000000</td>\n",
       "      <td>0.000000</td>\n",
       "      <td>0.000000</td>\n",
       "      <td>0.000000</td>\n",
       "      <td>0.000000</td>\n",
       "      <td>0.000000</td>\n",
       "      <td>0.000000</td>\n",
       "      <td>0.000000</td>\n",
       "      <td>0.000000</td>\n",
       "      <td>0.000000</td>\n",
       "    </tr>\n",
       "    <tr>\n",
       "      <th>50%</th>\n",
       "      <td>8.500000</td>\n",
       "      <td>-73.982101</td>\n",
       "      <td>40.753462</td>\n",
       "      <td>-73.980605</td>\n",
       "      <td>40.753841</td>\n",
       "      <td>1.000000</td>\n",
       "      <td>0.000000</td>\n",
       "      <td>0.000000</td>\n",
       "      <td>0.000000</td>\n",
       "      <td>0.000000</td>\n",
       "      <td>...</td>\n",
       "      <td>0.000000</td>\n",
       "      <td>0.000000</td>\n",
       "      <td>0.000000</td>\n",
       "      <td>0.000000</td>\n",
       "      <td>0.000000</td>\n",
       "      <td>0.000000</td>\n",
       "      <td>0.000000</td>\n",
       "      <td>0.000000</td>\n",
       "      <td>0.000000</td>\n",
       "      <td>0.000000</td>\n",
       "    </tr>\n",
       "    <tr>\n",
       "      <th>75%</th>\n",
       "      <td>12.500000</td>\n",
       "      <td>-73.968292</td>\n",
       "      <td>40.767557</td>\n",
       "      <td>-73.965396</td>\n",
       "      <td>40.768373</td>\n",
       "      <td>2.000000</td>\n",
       "      <td>0.000000</td>\n",
       "      <td>0.000000</td>\n",
       "      <td>0.000000</td>\n",
       "      <td>0.000000</td>\n",
       "      <td>...</td>\n",
       "      <td>0.000000</td>\n",
       "      <td>0.000000</td>\n",
       "      <td>0.000000</td>\n",
       "      <td>0.000000</td>\n",
       "      <td>0.000000</td>\n",
       "      <td>0.000000</td>\n",
       "      <td>0.000000</td>\n",
       "      <td>0.000000</td>\n",
       "      <td>0.000000</td>\n",
       "      <td>0.000000</td>\n",
       "    </tr>\n",
       "    <tr>\n",
       "      <th>max</th>\n",
       "      <td>300.000000</td>\n",
       "      <td>-72.176306</td>\n",
       "      <td>43.043032</td>\n",
       "      <td>-72.179201</td>\n",
       "      <td>43.267723</td>\n",
       "      <td>9.000000</td>\n",
       "      <td>1.000000</td>\n",
       "      <td>1.000000</td>\n",
       "      <td>1.000000</td>\n",
       "      <td>1.000000</td>\n",
       "      <td>...</td>\n",
       "      <td>1.000000</td>\n",
       "      <td>1.000000</td>\n",
       "      <td>1.000000</td>\n",
       "      <td>1.000000</td>\n",
       "      <td>1.000000</td>\n",
       "      <td>1.000000</td>\n",
       "      <td>1.000000</td>\n",
       "      <td>1.000000</td>\n",
       "      <td>1.000000</td>\n",
       "      <td>1.000000</td>\n",
       "    </tr>\n",
       "  </tbody>\n",
       "</table>\n",
       "<p>8 rows × 80 columns</p>\n",
       "</div>"
      ],
      "text/plain": [
       "         fare_amount  pickup_longitude  pickup_latitude  dropoff_longitude  \\\n",
       "count  511029.000000     511029.000000    511029.000000      511029.000000   \n",
       "mean       11.335625        -73.982200        40.751051         -73.986551   \n",
       "std         9.656648          2.086415         0.030315           3.760865   \n",
       "min         0.010000       -740.550000        40.081896       -2216.325133   \n",
       "25%         6.000000        -73.992320        40.736592         -73.991582   \n",
       "50%         8.500000        -73.982101        40.753462         -73.980605   \n",
       "75%        12.500000        -73.968292        40.767557         -73.965396   \n",
       "max       300.000000        -72.176306        43.043032         -72.179201   \n",
       "\n",
       "       dropoff_latitude  passenger_count        month_1        month_2  \\\n",
       "count     511029.000000    511029.000000  511029.000000  511029.000000   \n",
       "mean          40.751380         1.690677       0.088946       0.084115   \n",
       "std            0.033439         1.305468       0.284666       0.277560   \n",
       "min           40.027649         1.000000       0.000000       0.000000   \n",
       "25%           40.735620         1.000000       0.000000       0.000000   \n",
       "50%           40.753841         1.000000       0.000000       0.000000   \n",
       "75%           40.768373         2.000000       0.000000       0.000000   \n",
       "max           43.267723         9.000000       1.000000       1.000000   \n",
       "\n",
       "             month_3        month_4      ...               day_29  \\\n",
       "count  511029.000000  511029.000000      ...        511029.000000   \n",
       "mean        0.094153       0.092284      ...             0.029838   \n",
       "std         0.292042       0.289427      ...             0.170140   \n",
       "min         0.000000       0.000000      ...             0.000000   \n",
       "25%         0.000000       0.000000      ...             0.000000   \n",
       "50%         0.000000       0.000000      ...             0.000000   \n",
       "75%         0.000000       0.000000      ...             0.000000   \n",
       "max         1.000000       1.000000      ...             1.000000   \n",
       "\n",
       "              day_30         day_31      weekday_0      weekday_1  \\\n",
       "count  511029.000000  511029.000000  511029.000000  511029.000000   \n",
       "mean        0.029362       0.018739       0.128120       0.139769   \n",
       "std         0.168820       0.135601       0.334224       0.346748   \n",
       "min         0.000000       0.000000       0.000000       0.000000   \n",
       "25%         0.000000       0.000000       0.000000       0.000000   \n",
       "50%         0.000000       0.000000       0.000000       0.000000   \n",
       "75%         0.000000       0.000000       0.000000       0.000000   \n",
       "max         1.000000       1.000000       1.000000       1.000000   \n",
       "\n",
       "           weekday_2      weekday_3      weekday_4      weekday_5  \\\n",
       "count  511029.000000  511029.000000  511029.000000  511029.000000   \n",
       "mean        0.145236       0.149230       0.152878       0.152700   \n",
       "std         0.352339       0.356316       0.359870       0.359698   \n",
       "min         0.000000       0.000000       0.000000       0.000000   \n",
       "25%         0.000000       0.000000       0.000000       0.000000   \n",
       "50%         0.000000       0.000000       0.000000       0.000000   \n",
       "75%         0.000000       0.000000       0.000000       0.000000   \n",
       "max         1.000000       1.000000       1.000000       1.000000   \n",
       "\n",
       "           weekday_6  \n",
       "count  511029.000000  \n",
       "mean        0.132067  \n",
       "std         0.338564  \n",
       "min         0.000000  \n",
       "25%         0.000000  \n",
       "50%         0.000000  \n",
       "75%         0.000000  \n",
       "max         1.000000  \n",
       "\n",
       "[8 rows x 80 columns]"
      ]
     },
     "execution_count": 7,
     "metadata": {},
     "output_type": "execute_result"
    }
   ],
   "source": [
    "train.describe()"
   ]
  },
  {
   "cell_type": "code",
   "execution_count": 8,
   "metadata": {},
   "outputs": [
    {
     "data": {
      "text/plain": [
       "9.398519127304494"
      ]
     },
     "execution_count": 8,
     "metadata": {},
     "output_type": "execute_result"
    }
   ],
   "source": [
    "from sklearn.linear_model import LinearRegression\n",
    "from sklearn.model_selection import train_test_split\n",
    "from sklearn import metrics\n",
    "\n",
    "train_X, test_X, train_y, test_y = train_test_split(\n",
    "    train[features], train[target], test_size=0.4,random_state=0)\n",
    "\n",
    "clf = LinearRegression().fit(train_X, train_y)\n",
    "predictions = clf.predict(test_X)\n",
    "lrmse = np.sqrt(metrics.mean_squared_error(test_y, predictions))\n",
    "lrmse"
   ]
  },
  {
   "cell_type": "code",
   "execution_count": 9,
   "metadata": {},
   "outputs": [
    {
     "name": "stderr",
     "output_type": "stream",
     "text": [
      "/anaconda2/lib/python2.7/site-packages/sklearn/ensemble/weight_boosting.py:29: DeprecationWarning: numpy.core.umath_tests is an internal NumPy module and should not be imported. It will be removed in a future NumPy release.\n",
      "  from numpy.core.umath_tests import inner1d\n",
      "/anaconda2/lib/python2.7/site-packages/sklearn/model_selection/_validation.py:458: DataConversionWarning: A column-vector y was passed when a 1d array was expected. Please change the shape of y to (n_samples,), for example using ravel().\n",
      "  estimator.fit(X_train, y_train, **fit_params)\n",
      "/anaconda2/lib/python2.7/site-packages/sklearn/model_selection/_search.py:740: DataConversionWarning: A column-vector y was passed when a 1d array was expected. Please change the shape of y to (n_samples,), for example using ravel().\n",
      "  self.best_estimator_.fit(X, y, **fit_params)\n"
     ]
    },
    {
     "name": "stdout",
     "output_type": "stream",
     "text": [
      "('Grid best parameter (max. score): ', {'max_features': 13, 'min_samples_split': 4, 'max_depth': 4})\n",
      "('Grid best score: ', 0.445440588620677)\n"
     ]
    }
   ],
   "source": [
    "from sklearn.ensemble import RandomForestRegressor\n",
    "from sklearn.model_selection import GridSearchCV\n",
    "\n",
    "clf1 = RandomForestRegressor(n_estimators=10, criterion='mse')\n",
    "grid_values = {'max_features': [i for i in range(1,15)],\n",
    "              'max_depth' : [i for i in range(1,5)],\n",
    "              'min_samples_split' : [i for i in range(2,5)]}\n",
    "grid_clf_acc = GridSearchCV(clf1, param_grid = grid_values)\n",
    "grid_clf_acc.fit(train_X, train_y)\n",
    "print('Grid best parameter (max. score): ', grid_clf_acc.best_params_)\n",
    "print('Grid best score: ', grid_clf_acc.best_score_)"
   ]
  },
  {
   "cell_type": "code",
   "execution_count": 11,
   "metadata": {},
   "outputs": [
    {
     "name": "stderr",
     "output_type": "stream",
     "text": [
      "/anaconda2/lib/python2.7/site-packages/ipykernel_launcher.py:3: DataConversionWarning: A column-vector y was passed when a 1d array was expected. Please change the shape of y to (n_samples,), for example using ravel().\n",
      "  This is separate from the ipykernel package so we can avoid doing imports until\n"
     ]
    },
    {
     "data": {
      "text/plain": [
       "7.315263080618265"
      ]
     },
     "execution_count": 11,
     "metadata": {},
     "output_type": "execute_result"
    }
   ],
   "source": [
    "clf1 = RandomForestRegressor(n_estimators=10, criterion='mse',max_features=grid_clf_acc.best_params_['max_features'], \n",
    "                             min_samples_split= grid_clf_acc.best_params_['min_samples_split'], \n",
    "                             max_depth= grid_clf_acc.best_params_['max_depth']).fit(train_X,train_y)\n",
    "\n",
    "predictions = clf1.predict(test_X)\n",
    "lrmse = np.sqrt(metrics.mean_squared_error(test_y, predictions))\n",
    "lrmse"
   ]
  },
  {
   "cell_type": "code",
   "execution_count": 12,
   "metadata": {},
   "outputs": [
    {
     "data": {
      "text/html": [
       "<div>\n",
       "<style scoped>\n",
       "    .dataframe tbody tr th:only-of-type {\n",
       "        vertical-align: middle;\n",
       "    }\n",
       "\n",
       "    .dataframe tbody tr th {\n",
       "        vertical-align: top;\n",
       "    }\n",
       "\n",
       "    .dataframe thead th {\n",
       "        text-align: right;\n",
       "    }\n",
       "</style>\n",
       "<table border=\"1\" class=\"dataframe\">\n",
       "  <thead>\n",
       "    <tr style=\"text-align: right;\">\n",
       "      <th></th>\n",
       "      <th>key</th>\n",
       "      <th>pickup_longitude</th>\n",
       "      <th>pickup_latitude</th>\n",
       "      <th>dropoff_longitude</th>\n",
       "      <th>dropoff_latitude</th>\n",
       "      <th>passenger_count</th>\n",
       "      <th>month</th>\n",
       "      <th>hour</th>\n",
       "      <th>day</th>\n",
       "      <th>weekday</th>\n",
       "      <th>...</th>\n",
       "      <th>day_29</th>\n",
       "      <th>day_30</th>\n",
       "      <th>day_31</th>\n",
       "      <th>weekday_0</th>\n",
       "      <th>weekday_1</th>\n",
       "      <th>weekday_2</th>\n",
       "      <th>weekday_3</th>\n",
       "      <th>weekday_4</th>\n",
       "      <th>weekday_5</th>\n",
       "      <th>weekday_6</th>\n",
       "    </tr>\n",
       "  </thead>\n",
       "  <tbody>\n",
       "    <tr>\n",
       "      <th>0</th>\n",
       "      <td>2015-01-27 13:08:24.0000002</td>\n",
       "      <td>-73.973320</td>\n",
       "      <td>40.763805</td>\n",
       "      <td>-73.981430</td>\n",
       "      <td>40.743835</td>\n",
       "      <td>1</td>\n",
       "      <td>1</td>\n",
       "      <td>13</td>\n",
       "      <td>27</td>\n",
       "      <td>1</td>\n",
       "      <td>...</td>\n",
       "      <td>0</td>\n",
       "      <td>0</td>\n",
       "      <td>0</td>\n",
       "      <td>0</td>\n",
       "      <td>1</td>\n",
       "      <td>0</td>\n",
       "      <td>0</td>\n",
       "      <td>0</td>\n",
       "      <td>0</td>\n",
       "      <td>0</td>\n",
       "    </tr>\n",
       "    <tr>\n",
       "      <th>1</th>\n",
       "      <td>2015-01-27 13:08:24.0000003</td>\n",
       "      <td>-73.986862</td>\n",
       "      <td>40.719383</td>\n",
       "      <td>-73.998886</td>\n",
       "      <td>40.739201</td>\n",
       "      <td>1</td>\n",
       "      <td>1</td>\n",
       "      <td>13</td>\n",
       "      <td>27</td>\n",
       "      <td>1</td>\n",
       "      <td>...</td>\n",
       "      <td>0</td>\n",
       "      <td>0</td>\n",
       "      <td>0</td>\n",
       "      <td>0</td>\n",
       "      <td>1</td>\n",
       "      <td>0</td>\n",
       "      <td>0</td>\n",
       "      <td>0</td>\n",
       "      <td>0</td>\n",
       "      <td>0</td>\n",
       "    </tr>\n",
       "    <tr>\n",
       "      <th>2</th>\n",
       "      <td>2011-10-08 11:53:44.0000002</td>\n",
       "      <td>-73.982524</td>\n",
       "      <td>40.751260</td>\n",
       "      <td>-73.979654</td>\n",
       "      <td>40.746139</td>\n",
       "      <td>1</td>\n",
       "      <td>10</td>\n",
       "      <td>11</td>\n",
       "      <td>8</td>\n",
       "      <td>5</td>\n",
       "      <td>...</td>\n",
       "      <td>0</td>\n",
       "      <td>0</td>\n",
       "      <td>0</td>\n",
       "      <td>0</td>\n",
       "      <td>0</td>\n",
       "      <td>0</td>\n",
       "      <td>0</td>\n",
       "      <td>0</td>\n",
       "      <td>1</td>\n",
       "      <td>0</td>\n",
       "    </tr>\n",
       "    <tr>\n",
       "      <th>3</th>\n",
       "      <td>2012-12-01 21:12:12.0000002</td>\n",
       "      <td>-73.981160</td>\n",
       "      <td>40.767807</td>\n",
       "      <td>-73.990448</td>\n",
       "      <td>40.751635</td>\n",
       "      <td>1</td>\n",
       "      <td>12</td>\n",
       "      <td>21</td>\n",
       "      <td>1</td>\n",
       "      <td>5</td>\n",
       "      <td>...</td>\n",
       "      <td>0</td>\n",
       "      <td>0</td>\n",
       "      <td>0</td>\n",
       "      <td>0</td>\n",
       "      <td>0</td>\n",
       "      <td>0</td>\n",
       "      <td>0</td>\n",
       "      <td>0</td>\n",
       "      <td>1</td>\n",
       "      <td>0</td>\n",
       "    </tr>\n",
       "    <tr>\n",
       "      <th>4</th>\n",
       "      <td>2012-12-01 21:12:12.0000003</td>\n",
       "      <td>-73.966046</td>\n",
       "      <td>40.789775</td>\n",
       "      <td>-73.988565</td>\n",
       "      <td>40.744427</td>\n",
       "      <td>1</td>\n",
       "      <td>12</td>\n",
       "      <td>21</td>\n",
       "      <td>1</td>\n",
       "      <td>5</td>\n",
       "      <td>...</td>\n",
       "      <td>0</td>\n",
       "      <td>0</td>\n",
       "      <td>0</td>\n",
       "      <td>0</td>\n",
       "      <td>0</td>\n",
       "      <td>0</td>\n",
       "      <td>0</td>\n",
       "      <td>0</td>\n",
       "      <td>1</td>\n",
       "      <td>0</td>\n",
       "    </tr>\n",
       "  </tbody>\n",
       "</table>\n",
       "<p>5 rows × 84 columns</p>\n",
       "</div>"
      ],
      "text/plain": [
       "                           key  pickup_longitude  pickup_latitude  \\\n",
       "0  2015-01-27 13:08:24.0000002        -73.973320        40.763805   \n",
       "1  2015-01-27 13:08:24.0000003        -73.986862        40.719383   \n",
       "2  2011-10-08 11:53:44.0000002        -73.982524        40.751260   \n",
       "3  2012-12-01 21:12:12.0000002        -73.981160        40.767807   \n",
       "4  2012-12-01 21:12:12.0000003        -73.966046        40.789775   \n",
       "\n",
       "   dropoff_longitude  dropoff_latitude  passenger_count  month  hour  day  \\\n",
       "0         -73.981430         40.743835                1      1    13   27   \n",
       "1         -73.998886         40.739201                1      1    13   27   \n",
       "2         -73.979654         40.746139                1     10    11    8   \n",
       "3         -73.990448         40.751635                1     12    21    1   \n",
       "4         -73.988565         40.744427                1     12    21    1   \n",
       "\n",
       "   weekday    ...      day_29  day_30  day_31  weekday_0  weekday_1  \\\n",
       "0        1    ...           0       0       0          0          1   \n",
       "1        1    ...           0       0       0          0          1   \n",
       "2        5    ...           0       0       0          0          0   \n",
       "3        5    ...           0       0       0          0          0   \n",
       "4        5    ...           0       0       0          0          0   \n",
       "\n",
       "   weekday_2  weekday_3  weekday_4  weekday_5  weekday_6  \n",
       "0          0          0          0          0          0  \n",
       "1          0          0          0          0          0  \n",
       "2          0          0          0          1          0  \n",
       "3          0          0          0          1          0  \n",
       "4          0          0          0          1          0  \n",
       "\n",
       "[5 rows x 84 columns]"
      ]
     },
     "execution_count": 12,
     "metadata": {},
     "output_type": "execute_result"
    }
   ],
   "source": [
    "test.head()"
   ]
  },
  {
   "cell_type": "code",
   "execution_count": 38,
   "metadata": {},
   "outputs": [
    {
     "data": {
      "text/plain": [
       "4.810585458372285"
      ]
     },
     "execution_count": 38,
     "metadata": {},
     "output_type": "execute_result"
    }
   ],
   "source": [
    "from sklearn.ensemble import GradientBoostingRegressor\n",
    "\n",
    "clf2 = GradientBoostingRegressor().fit(train_X, train_y)\n",
    "\n",
    "predictions = clf2.predict(test_X)\n",
    "lrmse = np.sqrt(metrics.mean_squared_error(test_y, predictions))\n",
    "lrmse"
   ]
  },
  {
   "cell_type": "code",
   "execution_count": 22,
   "metadata": {},
   "outputs": [
    {
     "data": {
      "text/plain": [
       "array([ 8.14,  8.7 ,  8.11, ..., 48.8 , 19.65,  8.13])"
      ]
     },
     "execution_count": 22,
     "metadata": {},
     "output_type": "execute_result"
    }
   ],
   "source": [
    "#Predict final fares for submission\n",
    "GBPredictions = clf2.predict(test[features])\n",
    "GBPredictions = np.round(GBPredictions, decimals=2)\n",
    "GBPredictions"
   ]
  },
  {
   "cell_type": "code",
   "execution_count": 30,
   "metadata": {},
   "outputs": [
    {
     "data": {
      "text/plain": [
       "9914"
      ]
     },
     "execution_count": 30,
     "metadata": {},
     "output_type": "execute_result"
    }
   ],
   "source": [
    "#Check predictions have the correct dimensions\n",
    "GBPredictions.size\n"
   ]
  },
  {
   "cell_type": "code",
   "execution_count": 31,
   "metadata": {},
   "outputs": [],
   "source": [
    "#Set up predictions for a submittable dataframe\n",
    "GB_submission = pd.DataFrame({\"key\": test['key'],\"fare_amount\": GBPredictions},columns = ['key','fare_amount'])"
   ]
  },
  {
   "cell_type": "code",
   "execution_count": 36,
   "metadata": {},
   "outputs": [],
   "source": [
    "GB_submission.to_csv('GB_submission.csv',index=False)"
   ]
  },
  {
   "cell_type": "markdown",
   "metadata": {},
   "source": [
    "Gradient Boosting scores 4.45136"
   ]
  },
  {
   "cell_type": "code",
   "execution_count": 33,
   "metadata": {},
   "outputs": [
    {
     "data": {
      "text/plain": [
       "array([10.  , 10.  , 10.17, ..., 31.21, 10.12, 10.02])"
      ]
     },
     "execution_count": 33,
     "metadata": {},
     "output_type": "execute_result"
    }
   ],
   "source": [
    "#Predict final fares for submission\n",
    "RFPredictions = clf1.predict(test[features])\n",
    "RFPredictions = np.round(RFPredictions, decimals=2)\n",
    "RFPredictions"
   ]
  },
  {
   "cell_type": "code",
   "execution_count": 34,
   "metadata": {},
   "outputs": [],
   "source": [
    "#Set up predictions for a submittable dataframe\n",
    "RF_submission = pd.DataFrame({\"key\": test['key'],\"fare_amount\": RFPredictions},columns = ['key','fare_amount'])"
   ]
  },
  {
   "cell_type": "code",
   "execution_count": 35,
   "metadata": {},
   "outputs": [],
   "source": [
    "RF_submission.to_csv('RF_submission.csv',index=False)"
   ]
  },
  {
   "cell_type": "markdown",
   "metadata": {},
   "source": [
    "Random Forest scoes 7.028"
   ]
  },
  {
   "cell_type": "code",
   "execution_count": 39,
   "metadata": {},
   "outputs": [
    {
     "data": {
      "text/plain": [
       "9.37727119729122"
      ]
     },
     "execution_count": 39,
     "metadata": {},
     "output_type": "execute_result"
    }
   ],
   "source": [
    "from sklearn.neighbors import KNeighborsRegressor\n",
    "\n",
    "clf3 = KNeighborsRegressor().fit(train_X, train_y)\n",
    "\n",
    "predictions = clf3.predict(test_X)\n",
    "lrmse = np.sqrt(metrics.mean_squared_error(test_y, predictions))\n",
    "lrmse"
   ]
  },
  {
   "cell_type": "code",
   "execution_count": 40,
   "metadata": {},
   "outputs": [
    {
     "name": "stderr",
     "output_type": "stream",
     "text": [
      "/anaconda2/lib/python2.7/site-packages/sklearn/linear_model/stochastic_gradient.py:128: FutureWarning: max_iter and tol parameters have been added in <class 'sklearn.linear_model.stochastic_gradient.SGDRegressor'> in 0.19. If both are left unset, they default to max_iter=5 and tol=None. If tol is not None, max_iter defaults to max_iter=1000. From 0.21, default max_iter will be 1000, and default tol will be 1e-3.\n",
      "  \"and default tol will be 1e-3.\" % type(self), FutureWarning)\n"
     ]
    },
    {
     "data": {
      "text/plain": [
       "2010462310755.5288"
      ]
     },
     "execution_count": 40,
     "metadata": {},
     "output_type": "execute_result"
    }
   ],
   "source": [
    "from sklearn.linear_model import SGDRegressor\n",
    "\n",
    "clf4 = SGDRegressor().fit(train_X, train_y)\n",
    "\n",
    "predictions = clf4.predict(test_X)\n",
    "lrmse = np.sqrt(metrics.mean_squared_error(test_y, predictions))\n",
    "lrmse"
   ]
  },
  {
   "cell_type": "code",
   "execution_count": 42,
   "metadata": {},
   "outputs": [
    {
     "data": {
      "text/plain": [
       "9.60386159488703"
      ]
     },
     "execution_count": 42,
     "metadata": {},
     "output_type": "execute_result"
    }
   ],
   "source": [
    "from sklearn.neural_network import MLPRegressor\n",
    "\n",
    "clf5 = MLPRegressor(hidden_layer_sizes = [100, 100]).fit(train_X, train_y)\n",
    "\n",
    "predictions = clf5.predict(test_X)\n",
    "lrmse = np.sqrt(metrics.mean_squared_error(test_y, predictions))\n",
    "lrmse"
   ]
  },
  {
   "cell_type": "code",
   "execution_count": 43,
   "metadata": {},
   "outputs": [
    {
     "data": {
      "text/plain": [
       "9.398542489749142"
      ]
     },
     "execution_count": 43,
     "metadata": {},
     "output_type": "execute_result"
    }
   ],
   "source": [
    "from sklearn.linear_model import Ridge\n",
    "\n",
    "clf6 = Ridge().fit(train_X, train_y)\n",
    "\n",
    "predictions = clf6.predict(test_X)\n",
    "lrmse = np.sqrt(metrics.mean_squared_error(test_y, predictions))\n",
    "lrmse"
   ]
  },
  {
   "cell_type": "code",
   "execution_count": 44,
   "metadata": {},
   "outputs": [
    {
     "data": {
      "text/plain": [
       "9.628351727206448"
      ]
     },
     "execution_count": 44,
     "metadata": {},
     "output_type": "execute_result"
    }
   ],
   "source": [
    "from sklearn.linear_model import Lasso\n",
    "\n",
    "clf7 = Lasso().fit(train_X, train_y)\n",
    "\n",
    "predictions = clf7.predict(test_X)\n",
    "lrmse = np.sqrt(metrics.mean_squared_error(test_y, predictions))\n",
    "lrmse"
   ]
  },
  {
   "cell_type": "code",
   "execution_count": 46,
   "metadata": {},
   "outputs": [
    {
     "data": {
      "text/plain": [
       "9.419686045391552"
      ]
     },
     "execution_count": 46,
     "metadata": {},
     "output_type": "execute_result"
    }
   ],
   "source": [
    "from sklearn.svm import SVR\n",
    "\n",
    "clf8 = SVR().fit(train_X, train_y)\n",
    "\n",
    "predictions = clf8.predict(test_X)\n",
    "lrmse = np.sqrt(metrics.mean_squared_error(test_y, predictions))\n",
    "lrmse"
   ]
  },
  {
   "cell_type": "markdown",
   "metadata": {},
   "source": [
    "Using GridSearch to find the best parameters for Gradient Boosting Regressor"
   ]
  },
  {
   "cell_type": "code",
   "execution_count": 47,
   "metadata": {},
   "outputs": [
    {
     "name": "stdout",
     "output_type": "stream",
     "text": [
      "('Grid best parameter (max. score): ', {'min_samples_split': 2, 'loss': 'huber', 'learning_rate': 1, 'criterion': 'friedman_mse', 'min_samples_leaf': 2})\n",
      "('Grid best score: ', 0.7806194193640434)\n"
     ]
    }
   ],
   "source": [
    "clf9 = GradientBoostingRegressor()\n",
    "\n",
    "grid_values = {'loss': ['ls', 'lad', 'huber', 'quantile'],\n",
    "              'criterion' : ['friedman_mse','mse'],\n",
    "              'learning_rate' : [0.01,0.1,1],\n",
    "              'min_samples_leaf': [i for i in range(1,5)],\n",
    "              'min_samples_split': [i for i in range(2,5)]}\n",
    "grid_clf_acc = GridSearchCV(clf9, param_grid = grid_values)\n",
    "grid_clf_acc.fit(train_X, train_y)\n",
    "print('Grid best parameter (max. score): ', grid_clf_acc.best_params_)\n",
    "print('Grid best score: ', grid_clf_acc.best_score_)"
   ]
  },
  {
   "cell_type": "code",
   "execution_count": 48,
   "metadata": {},
   "outputs": [
    {
     "data": {
      "text/plain": [
       "4.423267789310712"
      ]
     },
     "execution_count": 48,
     "metadata": {},
     "output_type": "execute_result"
    }
   ],
   "source": [
    "clf9 = GradientBoostingRegressor(min_samples_split=grid_clf_acc.best_params_['min_samples_split'],\n",
    "                                loss=grid_clf_acc.best_params_['loss'],\n",
    "                                learning_rate=grid_clf_acc.best_params_['learning_rate'],\n",
    "                                criterion=grid_clf_acc.best_params_['criterion'],\n",
    "                                min_samples_leaf=grid_clf_acc.best_params_['min_samples_leaf']).fit(train_X, train_y)\n",
    "\n",
    "predictions = clf9.predict(test_X)\n",
    "lrmse = np.sqrt(metrics.mean_squared_error(test_y, predictions))\n",
    "lrmse\n"
   ]
  },
  {
   "cell_type": "code",
   "execution_count": 49,
   "metadata": {},
   "outputs": [],
   "source": [
    "#Predict final fares for submission\n",
    "GB_New_Predictions = clf9.predict(test[features])\n",
    "GB_New_Predictions = np.round(GB_New_Predictions, decimals=2)\n",
    "#Set up predictions for a submittable dataframe\n",
    "GB_New_submission = pd.DataFrame({\"key\": test['key'],\"fare_amount\": GB_New_Predictions},\n",
    "                                 columns = ['key','fare_amount'])\n",
    "GB_New_submission.to_csv('GB_New_submission.csv',index=False)"
   ]
  },
  {
   "cell_type": "markdown",
   "metadata": {},
   "source": [
    "Gradient Boosting with new parameters scores 3.8543"
   ]
  },
  {
   "cell_type": "code",
   "execution_count": null,
   "metadata": {},
   "outputs": [],
   "source": []
  }
 ],
 "metadata": {
  "kernelspec": {
   "display_name": "Python 2",
   "language": "python",
   "name": "python2"
  },
  "language_info": {
   "codemirror_mode": {
    "name": "ipython",
    "version": 2
   },
   "file_extension": ".py",
   "mimetype": "text/x-python",
   "name": "python",
   "nbconvert_exporter": "python",
   "pygments_lexer": "ipython2",
   "version": "2.7.15"
  }
 },
 "nbformat": 4,
 "nbformat_minor": 2
}
